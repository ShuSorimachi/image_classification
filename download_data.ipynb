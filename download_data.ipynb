{
  "nbformat": 4,
  "nbformat_minor": 0,
  "metadata": {
    "colab": {
      "name": "download_data",
      "provenance": [],
      "mount_file_id": "1rKUc_mQp7mUAw_gOuk9794MZoDZCqGmq",
      "authorship_tag": "ABX9TyNyfgcb3L73pzSb4pwo0nTc",
      "include_colab_link": true
    },
    "kernelspec": {
      "name": "python3",
      "display_name": "Python 3"
    }
  },
  "cells": [
    {
      "cell_type": "markdown",
      "metadata": {
        "id": "view-in-github",
        "colab_type": "text"
      },
      "source": [
        "<a href=\"https://colab.research.google.com/github/ShuSorimachi/image_classification/blob/master/download_data.ipynb\" target=\"_parent\"><img src=\"https://colab.research.google.com/assets/colab-badge.svg\" alt=\"Open In Colab\"/></a>"
      ]
    },
    {
      "cell_type": "code",
      "metadata": {
        "id": "nzabEN1n2y9m",
        "colab_type": "code",
        "colab": {}
      },
      "source": [
        "import os\n",
        "import urllib.request\n",
        "import zipfile"
      ],
      "execution_count": 0,
      "outputs": []
    },
    {
      "cell_type": "code",
      "metadata": {
        "id": "zGRZ40YA43_x",
        "colab_type": "code",
        "colab": {}
      },
      "source": [
        "data_dir = \"./drive/My Drive/Colab Notebooks/image_classification/data\"\n",
        "if not os.path.exists(data_dir):\n",
        "  os.mkdir(data_dir)"
      ],
      "execution_count": 0,
      "outputs": []
    },
    {
      "cell_type": "code",
      "metadata": {
        "id": "gOOAsFiG5Q6W",
        "colab_type": "code",
        "colab": {}
      },
      "source": [
        "url = \"https://s3.amazonaws.com/deep-learning-models/image-models/imagenet_class_index.json\"\n",
        "save_path = os.path.join(data_dir, \"imagenet_class_index.json\")\n",
        "\n",
        "if not os.path.exists(save_path):\n",
        "  urllib.request.urlretrieve(url, save_path)"
      ],
      "execution_count": 0,
      "outputs": []
    },
    {
      "cell_type": "code",
      "metadata": {
        "id": "e6ne8e4N6ysi",
        "colab_type": "code",
        "colab": {}
      },
      "source": [
        "url = \"https://download.pytorch.org/tutorial/hymenoptera_data.zip\"\n",
        "save_path = os.path.join(data_dir, \"hymenoptera_data.zip\")\n",
        "\n",
        "if not os.path.exists(save_path):\n",
        "  urllib.request.urlretrieve(url, save_path)\n",
        "\n",
        "  zip = zipfile.ZipFile(save_path)\n",
        "  zip.extractall(data_dir)\n",
        "  zip.close()\n",
        "\n",
        "  os.remove(save_path)\n"
      ],
      "execution_count": 0,
      "outputs": []
    },
    {
      "cell_type": "code",
      "metadata": {
        "id": "hgiBOrbn7g6y",
        "colab_type": "code",
        "colab": {}
      },
      "source": [
        ""
      ],
      "execution_count": 0,
      "outputs": []
    }
  ]
}